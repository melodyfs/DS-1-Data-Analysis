{
 "cells": [
  {
   "cell_type": "code",
   "execution_count": 41,
   "metadata": {
    "collapsed": true
   },
   "outputs": [],
   "source": [
    "import numpy as np\n",
    "import pandas as pd\n",
    "import matplotlib.pyplot as plt\n",
    "import scipy.stats as st\n",
    "%matplotlib inline\n",
    "np.random.seed(1547)"
   ]
  },
  {
   "cell_type": "markdown",
   "metadata": {},
   "source": [
    "Hint: What’s the easiest way to check if you’ll need to use sampling/Central Limit Theorem techniques?\n",
    "\n",
    "For companies in SF with names that start with the letter ‘a’, \n",
    "what percentage of companies raise a funding total between $25 and $30 million?\n",
    "\n",
    "Create a visualization that shows this on a graph of a normal distribution.  \n"
   ]
  },
  {
   "cell_type": "code",
   "execution_count": 28,
   "metadata": {},
   "outputs": [
    {
     "data": {
      "text/html": [
       "<div>\n",
       "<style>\n",
       "    .dataframe thead tr:only-child th {\n",
       "        text-align: right;\n",
       "    }\n",
       "\n",
       "    .dataframe thead th {\n",
       "        text-align: left;\n",
       "    }\n",
       "\n",
       "    .dataframe tbody tr th {\n",
       "        vertical-align: top;\n",
       "    }\n",
       "</style>\n",
       "<table border=\"1\" class=\"dataframe\">\n",
       "  <thead>\n",
       "    <tr style=\"text-align: right;\">\n",
       "      <th></th>\n",
       "      <th>funded_year</th>\n",
       "      <th>raised_amount_usd</th>\n",
       "      <th>id</th>\n",
       "    </tr>\n",
       "  </thead>\n",
       "  <tbody>\n",
       "    <tr>\n",
       "      <th>count</th>\n",
       "      <td>100.0000</td>\n",
       "      <td>1.000000e+02</td>\n",
       "      <td>100.000000</td>\n",
       "    </tr>\n",
       "    <tr>\n",
       "      <th>mean</th>\n",
       "      <td>2010.1300</td>\n",
       "      <td>1.269252e+07</td>\n",
       "      <td>25704.630000</td>\n",
       "    </tr>\n",
       "    <tr>\n",
       "      <th>std</th>\n",
       "      <td>2.4398</td>\n",
       "      <td>1.703946e+07</td>\n",
       "      <td>16007.196474</td>\n",
       "    </tr>\n",
       "    <tr>\n",
       "      <th>min</th>\n",
       "      <td>2004.0000</td>\n",
       "      <td>2.118900e+04</td>\n",
       "      <td>383.000000</td>\n",
       "    </tr>\n",
       "    <tr>\n",
       "      <th>25%</th>\n",
       "      <td>2009.0000</td>\n",
       "      <td>1.115000e+06</td>\n",
       "      <td>12297.500000</td>\n",
       "    </tr>\n",
       "    <tr>\n",
       "      <th>50%</th>\n",
       "      <td>2011.0000</td>\n",
       "      <td>4.500000e+06</td>\n",
       "      <td>21087.000000</td>\n",
       "    </tr>\n",
       "    <tr>\n",
       "      <th>75%</th>\n",
       "      <td>2012.0000</td>\n",
       "      <td>1.360000e+07</td>\n",
       "      <td>38919.250000</td>\n",
       "    </tr>\n",
       "    <tr>\n",
       "      <th>max</th>\n",
       "      <td>2014.0000</td>\n",
       "      <td>5.000000e+07</td>\n",
       "      <td>56910.000000</td>\n",
       "    </tr>\n",
       "  </tbody>\n",
       "</table>\n",
       "</div>"
      ],
      "text/plain": [
       "       funded_year  raised_amount_usd            id\n",
       "count     100.0000       1.000000e+02    100.000000\n",
       "mean     2010.1300       1.269252e+07  25704.630000\n",
       "std         2.4398       1.703946e+07  16007.196474\n",
       "min      2004.0000       2.118900e+04    383.000000\n",
       "25%      2009.0000       1.115000e+06  12297.500000\n",
       "50%      2011.0000       4.500000e+06  21087.000000\n",
       "75%      2012.0000       1.360000e+07  38919.250000\n",
       "max      2014.0000       5.000000e+07  56910.000000"
      ]
     },
     "execution_count": 28,
     "metadata": {},
     "output_type": "execute_result"
    }
   ],
   "source": [
    "df = pd.read_csv(\"datasets/sf_companies.csv\")\n",
    "df.describe()"
   ]
  },
  {
   "cell_type": "code",
   "execution_count": 51,
   "metadata": {
    "collapsed": true
   },
   "outputs": [],
   "source": [
    "def get_sample(dataset, n=30):\n",
    "    \"\"\"Grabs a random subsample of size 'n' from dataset.\n",
    "    Outputs the mean of the subsample.\"\"\"\n",
    "    subsample = np.random.choice(dataset, size=n)\n",
    "    mean = np.mean(subsample)\n",
    "    return mean\n",
    "\n",
    "def create_sample_distribution(dataset, size=100):\n",
    "    \"\"\"Creates a dataset of subsample means.  The length of the dataset is specified by the 'size' \n",
    "    keyword argument. Should return the entire sample distribution as a numpy array.  \"\"\"\n",
    "    sample_mean = []\n",
    "    for i in range(size):\n",
    "        sample_mean.append(get_sample(dataset))\n",
    "    return sample_mean"
   ]
  },
  {
   "cell_type": "code",
   "execution_count": 77,
   "metadata": {},
   "outputs": [
    {
     "data": {
      "text/plain": [
       "count        100.000000\n",
       "mean    12692522.140000\n",
       "std     17039458.087143\n",
       "min        21189.000000\n",
       "25%      1115000.000000\n",
       "50%      4500000.000000\n",
       "75%     13600000.000000\n",
       "max     50000000.000000\n",
       "Name: raised_amount_usd, dtype: float64"
      ]
     },
     "execution_count": 77,
     "metadata": {},
     "output_type": "execute_result"
    }
   ],
   "source": [
    "funding_df = df['raised_amount_usd']\n",
    "pd.set_option('float_format', '{:f}'.format)\n",
    "\n",
    "funding_df.describe()"
   ]
  },
  {
   "cell_type": "code",
   "execution_count": 79,
   "metadata": {},
   "outputs": [
    {
     "data": {
      "text/plain": [
       "0.080178098539950393"
      ]
     },
     "execution_count": 79,
     "metadata": {},
     "output_type": "execute_result"
    }
   ],
   "source": [
    "mean = 12692522.140000\n",
    "std = 17039458.087143\n",
    "z_score_25 = (25000000- mean) / std\n",
    "z_score_30 = (30000000 - mean) / std\n",
    "\n",
    "left_tail_25 = st.norm.cdf(z_score_25)\n",
    "left_tail_30 = st.norm.cdf(z_score_30)\n",
    "\n",
    "total = left_tail_30 - left_tail_25\n",
    "\n",
    "total\n"
   ]
  },
  {
   "cell_type": "code",
   "execution_count": 76,
   "metadata": {},
   "outputs": [
    {
     "data": {
      "text/plain": [
       "<matplotlib.axes._subplots.AxesSubplot at 0x1a1781d9b0>"
      ]
     },
     "execution_count": 76,
     "metadata": {},
     "output_type": "execute_result"
    },
    {
     "data": {
      "image/png": "[encoded data removed]",
      "text/plain": [
       "<matplotlib.figure.Figure at 0x1a17966128>"
      ]
     },
     "metadata": {},
     "output_type": "display_data"
    }
   ],
   "source": [
    "sample = create_sample_distribution(funding_df)\n",
    "sample_df = pd.DataFrame(sample)\n",
    "sample_df.plot.hist()"
   ]
  },
  {
   "cell_type": "code",
   "execution_count": null,
   "metadata": {
    "collapsed": true
   },
   "outputs": [],
   "source": []
  }
 ],
 "metadata": {
  "kernelspec": {
   "display_name": "Python 3",
   "language": "python",
   "name": "python3"
  },
  "language_info": {
   "codemirror_mode": {
    "name": "ipython",
    "version": 3
   },
   "file_extension": ".py",
   "mimetype": "text/x-python",
   "name": "python",
   "nbconvert_exporter": "python",
   "pygments_lexer": "ipython3",
   "version": "3.6.3"
  }
 },
 "nbformat": 4,
 "nbformat_minor": 2
}

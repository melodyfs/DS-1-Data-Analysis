{
 "cells": [
  {
   "cell_type": "code",
   "execution_count": 2,
   "metadata": {
    "collapsed": true
   },
   "outputs": [],
   "source": [
    "import numpy as np"
   ]
  },
  {
   "cell_type": "markdown",
   "metadata": {},
   "source": [
    "# Class 10 Challenges: Hypothesis Testing\n",
    "## For each of the following scenarios, try to answer the following questions:\n",
    "1. What is your null hypothesis?\n",
    "2. What is your alternative hypothesis?\n",
    "3. Is this a one-sample or two sample test?\n",
    "4. Is this a one-sided or two-sided test?\n",
    "5. Is this a left-tail or right-tail test?\n",
    "6. What is your p-value?\n",
    "7. Based on the data, do you reject or fail to reject the null hypothesis?\n",
    "8. In layman’s terms, what does this mean to your boss?\n"
   ]
  },
  {
   "cell_type": "markdown",
   "metadata": {},
   "source": [
    "### Scenario 1: Website Design Change\n",
    "1. H0: The change of website design led to mroe sales, alpha > 0.05\n",
    "2. Ha: The change of website doesn't affect sales, alpha < 0.05\n",
    "3. Two-sample\n",
    "4. One-sided\n",
    "5. Left tail\n",
    "6. \n",
    "7.\n",
    "8."
   ]
  },
  {
   "cell_type": "code",
   "execution_count": 4,
   "metadata": {},
   "outputs": [],
   "source": [
    "t = (15.73-22.62) / np.sqrt((3.52 ** 2 / 100) + (4.22 ** 2 / 100))\n"
   ]
  },
  {
   "cell_type": "markdown",
   "metadata": {},
   "source": [
    "### Scenario 2: Advertising Campaign\n"
   ]
  },
  {
   "cell_type": "markdown",
   "metadata": {},
   "source": [
    "### Scenario 3: Reducing Churn Rate"
   ]
  },
  {
   "cell_type": "code",
   "execution_count": null,
   "metadata": {
    "collapsed": true
   },
   "outputs": [],
   "source": []
  }
 ],
 "metadata": {
  "kernelspec": {
   "display_name": "Python 3",
   "language": "python",
   "name": "python3"
  },
  "language_info": {
   "codemirror_mode": {
    "name": "ipython",
    "version": 3
   },
   "file_extension": ".py",
   "mimetype": "text/x-python",
   "name": "python",
   "nbconvert_exporter": "python",
   "pygments_lexer": "ipython3",
   "version": "3.6.3"
  }
 },
 "nbformat": 4,
 "nbformat_minor": 2
}
